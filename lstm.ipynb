{
  "nbformat": 4,
  "nbformat_minor": 0,
  "metadata": {
    "colab": {
      "provenance": []
    },
    "kernelspec": {
      "name": "python3",
      "display_name": "Python 3"
    },
    "language_info": {
      "name": "python"
    }
  },
  "cells": [
    {
      "cell_type": "code",
      "execution_count": 1,
      "metadata": {
        "colab": {
          "base_uri": "https://localhost:8080/"
        },
        "id": "Iclt-TIGeBJb",
        "outputId": "b5f454cf-1e3e-4858-ee12-61a935b091f2"
      },
      "outputs": [
        {
          "output_type": "stream",
          "name": "stdout",
          "text": [
            "Downloading data from https://storage.googleapis.com/tensorflow/tf-keras-datasets/imdb.npz\n",
            "\u001b[1m17464789/17464789\u001b[0m \u001b[32m━━━━━━━━━━━━━━━━━━━━\u001b[0m\u001b[37m\u001b[0m \u001b[1m0s\u001b[0m 0us/step\n",
            "Epoch 1/3\n"
          ]
        },
        {
          "output_type": "stream",
          "name": "stderr",
          "text": [
            "/usr/local/lib/python3.12/dist-packages/keras/src/layers/core/embedding.py:97: UserWarning: Argument `input_length` is deprecated. Just remove it.\n",
            "  warnings.warn(\n"
          ]
        },
        {
          "output_type": "stream",
          "name": "stdout",
          "text": [
            "\u001b[1m782/782\u001b[0m \u001b[32m━━━━━━━━━━━━━━━━━━━━\u001b[0m\u001b[37m\u001b[0m \u001b[1m136s\u001b[0m 171ms/step - accuracy: 0.7342 - loss: 0.5169 - val_accuracy: 0.8385 - val_loss: 0.3669\n",
            "Epoch 2/3\n",
            "\u001b[1m782/782\u001b[0m \u001b[32m━━━━━━━━━━━━━━━━━━━━\u001b[0m\u001b[37m\u001b[0m \u001b[1m131s\u001b[0m 168ms/step - accuracy: 0.8690 - loss: 0.3076 - val_accuracy: 0.8394 - val_loss: 0.3584\n",
            "Epoch 3/3\n",
            "\u001b[1m782/782\u001b[0m \u001b[32m━━━━━━━━━━━━━━━━━━━━\u001b[0m\u001b[37m\u001b[0m \u001b[1m132s\u001b[0m 168ms/step - accuracy: 0.8987 - loss: 0.2453 - val_accuracy: 0.8379 - val_loss: 0.3875\n",
            "\u001b[1m782/782\u001b[0m \u001b[32m━━━━━━━━━━━━━━━━━━━━\u001b[0m\u001b[37m\u001b[0m \u001b[1m31s\u001b[0m 39ms/step\n",
            "Downloading data from https://storage.googleapis.com/tensorflow/tf-keras-datasets/imdb_word_index.json\n",
            "\u001b[1m1641221/1641221\u001b[0m \u001b[32m━━━━━━━━━━━━━━━━━━━━\u001b[0m\u001b[37m\u001b[0m \u001b[1m0s\u001b[0m 0us/step\n",
            "Sentence: the characters are developed # and are somewhat likable not like cabin fever where you wanted them to die and the movie has a decent pace although nothing happens in the 1st 30 minutes like most horror films br br i give it a 8 10 as it delivered good scares and gore and i had low expectations going into it if you go with some friends that like cheesy horror movies you'll have a good time br br #\n",
            "Predicted Review: Positive\n",
            "Expected Value: Positive\n"
          ]
        }
      ],
      "source": [
        "#lstm code\n",
        "\n",
        "from tensorflow.keras.datasets import imdb\n",
        "from tensorflow.keras.preprocessing.sequence import pad_sequences\n",
        "from tensorflow.keras.models import Sequential\n",
        "from tensorflow.keras.layers import Embedding, LSTM, Dense\n",
        "\n",
        "(x_train, y_train), (x_test, y_test) = imdb.load_data(num_words=5000)\n",
        "x_train = pad_sequences(x_train, maxlen=80)\n",
        "x_test  = pad_sequences(x_test, maxlen=80)\n",
        "\n",
        "model = Sequential()\n",
        "model.add(Embedding(input_dim=5000, output_dim=128, input_length=80))\n",
        "model.add(LSTM(128))\n",
        "model.add(Dense(1, activation='sigmoid'))\n",
        "\n",
        "model.compile(loss='binary_crossentropy', optimizer='adam', metrics=['accuracy'])\n",
        "model.fit(x_train, y_train, validation_data=(x_test, y_test), epochs=3, batch_size=32)\n",
        "\n",
        "\n",
        "pred = (model.predict(x_test) > 0.5).astype(int)\n",
        "\n",
        "# lstm add on\n",
        "from random import randint\n",
        "arr_ind = randint(0, len(x_test)-1)\n",
        "\n",
        "\n",
        "index = imdb.get_word_index()\n",
        "reverse_index = {value: key for key, value in index.items()}\n",
        "decoded = \" \".join([reverse_index.get(i - 3, \"#\") for i in x_test[arr_ind]])\n",
        "\n",
        "\n",
        "label = \"Positive\" if pred[arr_ind][0] == 1 else \"Negative\"\n",
        "\n",
        "print(\"Sentence:\", decoded)\n",
        "print(\"Predicted Review:\", label)\n",
        "print(\"Expected Value:\", \"Positive\" if y_test[arr_ind]==1 else \"Negative\")\n"
      ]
    }
  ]
}