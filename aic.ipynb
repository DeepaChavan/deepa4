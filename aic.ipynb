{
 "cells": [
  {
   "cell_type": "code",
   "execution_count": null,
   "id": "2669dee0-6485-417e-96f6-580af8737638",
   "metadata": {},
   "outputs": [],
   "source": []
  },
  {
   "cell_type": "code",
   "execution_count": null,
   "id": "6d47bb1c-19be-4b56-8712-534a13d0a20d",
   "metadata": {},
   "outputs": [],
   "source": []
  },
  {
   "cell_type": "code",
   "execution_count": null,
   "id": "0a9dd286-1d50-471a-a636-a7abc784f820",
   "metadata": {},
   "outputs": [],
   "source": []
  },
  {
   "cell_type": "code",
   "execution_count": null,
   "id": "0ccbddac-c4ac-4e17-8067-0d5bd92547b6",
   "metadata": {},
   "outputs": [],
   "source": []
  },
  {
   "cell_type": "code",
   "execution_count": null,
   "id": "43240bad-b495-4d07-b0a5-7cfcce79e062",
   "metadata": {},
   "outputs": [],
   "source": []
  },
  {
   "cell_type": "code",
   "execution_count": null,
   "id": "a50314ff-3f2c-432d-a791-0bcd80e64e87",
   "metadata": {},
   "outputs": [],
   "source": []
  },
  {
   "cell_type": "code",
   "execution_count": null,
   "id": "e1b55928-0b94-4497-99bf-1972b4c5d78b",
   "metadata": {},
   "outputs": [],
   "source": []
  },
  {
   "cell_type": "code",
   "execution_count": null,
   "id": "1621aae6-05c6-4bba-8950-745ed52183f2",
   "metadata": {},
   "outputs": [],
   "source": []
  },
  {
   "cell_type": "code",
   "execution_count": null,
   "id": "7ea02a64-b46e-4baa-9035-143e82ebde81",
   "metadata": {},
   "outputs": [],
   "source": []
  },
  {
   "cell_type": "code",
   "execution_count": null,
   "id": "ee789e27-0a37-4f26-ad80-b0b9be5492d6",
   "metadata": {},
   "outputs": [],
   "source": []
  },
  {
   "cell_type": "code",
   "execution_count": null,
   "id": "4560f7a2-637f-4638-bac0-1b166c89885a",
   "metadata": {},
   "outputs": [],
   "source": []
  },
  {
   "cell_type": "code",
   "execution_count": null,
   "id": "9f37073e-6643-40d5-9e41-575fcd222b57",
   "metadata": {},
   "outputs": [],
   "source": []
  },
  {
   "cell_type": "code",
   "execution_count": null,
   "id": "0cf63509-0fc7-4e6f-8385-02ce61261c10",
   "metadata": {},
   "outputs": [],
   "source": []
  },
  {
   "cell_type": "code",
   "execution_count": null,
   "id": "3fb15661-7b01-4749-859a-e601d03ff671",
   "metadata": {},
   "outputs": [],
   "source": []
  },
  {
   "cell_type": "code",
   "execution_count": null,
   "id": "46d7a580-2bd1-4a0d-bf3e-868d1f0d451b",
   "metadata": {},
   "outputs": [],
   "source": []
  },
  {
   "cell_type": "code",
   "execution_count": null,
   "id": "1a569273-6b59-413b-922d-041f25ba224b",
   "metadata": {},
   "outputs": [],
   "source": []
  },
  {
   "cell_type": "code",
   "execution_count": null,
   "id": "11267d92-57f3-45cd-880c-a369d12864b6",
   "metadata": {},
   "outputs": [],
   "source": []
  },
  {
   "cell_type": "code",
   "execution_count": null,
   "id": "ba50db39-617e-4d12-9dfe-9727736be36d",
   "metadata": {},
   "outputs": [],
   "source": []
  },
  {
   "cell_type": "code",
   "execution_count": null,
   "id": "086a4c16-8d23-471c-8a38-2c8dcd4a5387",
   "metadata": {},
   "outputs": [],
   "source": []
  },
  {
   "cell_type": "code",
   "execution_count": null,
   "id": "9f61f787-8dcf-4cb4-ac18-0be5606bde4e",
   "metadata": {},
   "outputs": [],
   "source": []
  },
  {
   "cell_type": "code",
   "execution_count": null,
   "id": "dbc5aac1-2bfa-45fe-a5e2-542c123870d4",
   "metadata": {},
   "outputs": [],
   "source": []
  },
  {
   "cell_type": "code",
   "execution_count": null,
   "id": "89e59afd-ccab-4e6b-b337-ac97e84c1e7f",
   "metadata": {},
   "outputs": [],
   "source": []
  },
  {
   "cell_type": "code",
   "execution_count": null,
   "id": "f2d98e5f-c8de-4f9f-8a6d-51cfca3b96b0",
   "metadata": {},
   "outputs": [],
   "source": []
  },
  {
   "cell_type": "code",
   "execution_count": null,
   "id": "c0533b60-ff6a-4645-a2b4-720024bb9b39",
   "metadata": {},
   "outputs": [],
   "source": []
  },
  {
   "cell_type": "code",
   "execution_count": null,
   "id": "4155dc1c-8f64-4bd3-8006-742b0c461206",
   "metadata": {},
   "outputs": [],
   "source": []
  },
  {
   "cell_type": "code",
   "execution_count": null,
   "id": "4f5c0014-8f97-48ca-b57d-ce852395cec3",
   "metadata": {},
   "outputs": [],
   "source": []
  },
  {
   "cell_type": "code",
   "execution_count": null,
   "id": "3d3255e2-0302-4f0f-bc02-82bd6f2de744",
   "metadata": {},
   "outputs": [],
   "source": []
  },
  {
   "cell_type": "code",
   "execution_count": null,
   "id": "0eafb9c9-a1a0-4423-a3c6-543ce93baf92",
   "metadata": {},
   "outputs": [],
   "source": []
  },
  {
   "cell_type": "code",
   "execution_count": null,
   "id": "2893e637-9edf-4957-8294-9185f6f08609",
   "metadata": {},
   "outputs": [],
   "source": []
  },
  {
   "cell_type": "code",
   "execution_count": null,
   "id": "2df9fd0b-bb55-45cd-aa00-e62d6d743d4f",
   "metadata": {},
   "outputs": [],
   "source": []
  },
  {
   "cell_type": "code",
   "execution_count": null,
   "id": "369f2c45-2314-4766-bd09-d30c44158658",
   "metadata": {},
   "outputs": [],
   "source": []
  },
  {
   "cell_type": "code",
   "execution_count": null,
   "id": "25ad223d-3c03-4ec5-b292-65753f2e5665",
   "metadata": {},
   "outputs": [],
   "source": []
  },
  {
   "cell_type": "code",
   "execution_count": null,
   "id": "e053f004-df00-4356-9728-0c13f3431a7c",
   "metadata": {},
   "outputs": [],
   "source": []
  },
  {
   "cell_type": "code",
   "execution_count": null,
   "id": "5c2eeb73-690d-41e9-af44-e1b2f87a9ef9",
   "metadata": {},
   "outputs": [],
   "source": []
  },
  {
   "cell_type": "code",
   "execution_count": null,
   "id": "5b5b9690-c474-4169-aff1-5e744a13d9bc",
   "metadata": {},
   "outputs": [],
   "source": []
  },
  {
   "cell_type": "code",
   "execution_count": null,
   "id": "319349f8-8119-4258-9eae-bee84bf887ea",
   "metadata": {},
   "outputs": [],
   "source": []
  },
  {
   "cell_type": "code",
   "execution_count": null,
   "id": "0e852ac3-81f2-4641-aadd-272c1d5c311f",
   "metadata": {},
   "outputs": [],
   "source": []
  },
  {
   "cell_type": "code",
   "execution_count": null,
   "id": "2c7daba8-c780-4dd4-9448-53c06ba1cff7",
   "metadata": {},
   "outputs": [],
   "source": []
  },
  {
   "cell_type": "code",
   "execution_count": 3,
   "id": "3ec33bc0-7b76-41aa-b208-f6aef9db4380",
   "metadata": {},
   "outputs": [
    {
     "name": "stderr",
     "output_type": "stream",
     "text": [
      "C:\\Users\\Deepa\\AppData\\Local\\Temp\\ipykernel_25568\\493824141.py:7: FutureWarning: 'M' is deprecated and will be removed in a future version, please use 'ME' instead.\n",
      "  months = pd.date_range(start='2018-01-01', periods=60, freq='M')\n"
     ]
    },
    {
     "data": {
      "text/html": [
       "<div>\n",
       "<style scoped>\n",
       "    .dataframe tbody tr th:only-of-type {\n",
       "        vertical-align: middle;\n",
       "    }\n",
       "\n",
       "    .dataframe tbody tr th {\n",
       "        vertical-align: top;\n",
       "    }\n",
       "\n",
       "    .dataframe thead th {\n",
       "        text-align: right;\n",
       "    }\n",
       "</style>\n",
       "<table border=\"1\" class=\"dataframe\">\n",
       "  <thead>\n",
       "    <tr style=\"text-align: right;\">\n",
       "      <th></th>\n",
       "      <th>Sales</th>\n",
       "    </tr>\n",
       "    <tr>\n",
       "      <th>Month</th>\n",
       "      <th></th>\n",
       "    </tr>\n",
       "  </thead>\n",
       "  <tbody>\n",
       "    <tr>\n",
       "      <th>2018-01-31</th>\n",
       "      <td>207.450712</td>\n",
       "    </tr>\n",
       "    <tr>\n",
       "      <th>2018-02-28</th>\n",
       "      <td>200.926035</td>\n",
       "    </tr>\n",
       "    <tr>\n",
       "      <th>2018-03-31</th>\n",
       "      <td>215.715328</td>\n",
       "    </tr>\n",
       "    <tr>\n",
       "      <th>2018-04-30</th>\n",
       "      <td>231.845448</td>\n",
       "    </tr>\n",
       "    <tr>\n",
       "      <th>2018-05-31</th>\n",
       "      <td>208.487699</td>\n",
       "    </tr>\n",
       "  </tbody>\n",
       "</table>\n",
       "</div>"
      ],
      "text/plain": [
       "                 Sales\n",
       "Month                 \n",
       "2018-01-31  207.450712\n",
       "2018-02-28  200.926035\n",
       "2018-03-31  215.715328\n",
       "2018-04-30  231.845448\n",
       "2018-05-31  208.487699"
      ]
     },
     "metadata": {},
     "output_type": "display_data"
    },
    {
     "data": {
      "image/png": "[encoded data removed]",
      "text/plain": [
       "<Figure size 1200x400 with 1 Axes>"
      ]
     },
     "metadata": {},
     "output_type": "display_data"
    },
    {
     "name": "stderr",
     "output_type": "stream",
     "text": [
      "C:\\Users\\Deepa\\AppData\\Local\\Programs\\Python\\Python312\\Lib\\site-packages\\statsmodels\\tsa\\base\\tsa_model.py:473: ValueWarning: No frequency information was provided, so inferred frequency ME will be used.\n",
      "  self._init_dates(dates, freq)\n",
      "C:\\Users\\Deepa\\AppData\\Local\\Programs\\Python\\Python312\\Lib\\site-packages\\statsmodels\\tsa\\base\\tsa_model.py:473: ValueWarning: No frequency information was provided, so inferred frequency ME will be used.\n",
      "  self._init_dates(dates, freq)\n",
      "C:\\Users\\Deepa\\AppData\\Local\\Programs\\Python\\Python312\\Lib\\site-packages\\statsmodels\\tsa\\base\\tsa_model.py:473: ValueWarning: No frequency information was provided, so inferred frequency ME will be used.\n",
      "  self._init_dates(dates, freq)\n"
     ]
    },
    {
     "name": "stdout",
     "output_type": "stream",
     "text": [
      "Case 1: {'Order': (1, 1, 1), 'AIC': np.float64(675.7912864544577), 'BIC': np.float64(682.0238987861749), 'FPE': np.float64(6373.020392363286)}\n"
     ]
    },
    {
     "name": "stderr",
     "output_type": "stream",
     "text": [
      "C:\\Users\\Deepa\\AppData\\Local\\Programs\\Python\\Python312\\Lib\\site-packages\\statsmodels\\tsa\\base\\tsa_model.py:473: ValueWarning: No frequency information was provided, so inferred frequency ME will be used.\n",
      "  self._init_dates(dates, freq)\n",
      "C:\\Users\\Deepa\\AppData\\Local\\Programs\\Python\\Python312\\Lib\\site-packages\\statsmodels\\tsa\\base\\tsa_model.py:473: ValueWarning: No frequency information was provided, so inferred frequency ME will be used.\n",
      "  self._init_dates(dates, freq)\n",
      "C:\\Users\\Deepa\\AppData\\Local\\Programs\\Python\\Python312\\Lib\\site-packages\\statsmodels\\tsa\\base\\tsa_model.py:473: ValueWarning: No frequency information was provided, so inferred frequency ME will be used.\n",
      "  self._init_dates(dates, freq)\n"
     ]
    },
    {
     "name": "stdout",
     "output_type": "stream",
     "text": [
      "Case 2: {'Order': (2, 1, 2), 'AIC': np.float64(662.0576160724921), 'BIC': np.float64(672.4453032920208), 'FPE': np.float64(5194.98693399828)}\n"
     ]
    },
    {
     "name": "stderr",
     "output_type": "stream",
     "text": [
      "C:\\Users\\Deepa\\AppData\\Local\\Programs\\Python\\Python312\\Lib\\site-packages\\statsmodels\\tsa\\base\\tsa_model.py:473: ValueWarning: No frequency information was provided, so inferred frequency ME will be used.\n",
      "  self._init_dates(dates, freq)\n",
      "C:\\Users\\Deepa\\AppData\\Local\\Programs\\Python\\Python312\\Lib\\site-packages\\statsmodels\\tsa\\base\\tsa_model.py:473: ValueWarning: No frequency information was provided, so inferred frequency ME will be used.\n",
      "  self._init_dates(dates, freq)\n",
      "C:\\Users\\Deepa\\AppData\\Local\\Programs\\Python\\Python312\\Lib\\site-packages\\statsmodels\\tsa\\base\\tsa_model.py:473: ValueWarning: No frequency information was provided, so inferred frequency ME will be used.\n",
      "  self._init_dates(dates, freq)\n"
     ]
    },
    {
     "name": "stdout",
     "output_type": "stream",
     "text": [
      "Case 3: {'Order': (3, 1, 2), 'AIC': np.float64(664.05410134053), 'BIC': np.float64(676.5193260039644), 'FPE': np.float64(5373.086870055186)}\n"
     ]
    },
    {
     "name": "stderr",
     "output_type": "stream",
     "text": [
      "C:\\Users\\Deepa\\AppData\\Local\\Programs\\Python\\Python312\\Lib\\site-packages\\statsmodels\\tsa\\base\\tsa_model.py:473: ValueWarning: No frequency information was provided, so inferred frequency ME will be used.\n",
      "  self._init_dates(dates, freq)\n",
      "C:\\Users\\Deepa\\AppData\\Local\\Programs\\Python\\Python312\\Lib\\site-packages\\statsmodels\\tsa\\base\\tsa_model.py:473: ValueWarning: No frequency information was provided, so inferred frequency ME will be used.\n",
      "  self._init_dates(dates, freq)\n",
      "C:\\Users\\Deepa\\AppData\\Local\\Programs\\Python\\Python312\\Lib\\site-packages\\statsmodels\\tsa\\base\\tsa_model.py:473: ValueWarning: No frequency information was provided, so inferred frequency ME will be used.\n",
      "  self._init_dates(dates, freq)\n"
     ]
    },
    {
     "name": "stdout",
     "output_type": "stream",
     "text": [
      "Case 4: {'Order': (2, 0, 2), 'AIC': np.float64(675.1588481837687), 'BIC': np.float64(687.7249155571012), 'FPE': np.float64(4679.672690375354)}\n"
     ]
    },
    {
     "name": "stderr",
     "output_type": "stream",
     "text": [
      "C:\\Users\\Deepa\\AppData\\Local\\Programs\\Python\\Python312\\Lib\\site-packages\\statsmodels\\tsa\\base\\tsa_model.py:473: ValueWarning: No frequency information was provided, so inferred frequency ME will be used.\n",
      "  self._init_dates(dates, freq)\n",
      "C:\\Users\\Deepa\\AppData\\Local\\Programs\\Python\\Python312\\Lib\\site-packages\\statsmodels\\tsa\\base\\tsa_model.py:473: ValueWarning: No frequency information was provided, so inferred frequency ME will be used.\n",
      "  self._init_dates(dates, freq)\n",
      "C:\\Users\\Deepa\\AppData\\Local\\Programs\\Python\\Python312\\Lib\\site-packages\\statsmodels\\tsa\\base\\tsa_model.py:473: ValueWarning: No frequency information was provided, so inferred frequency ME will be used.\n",
      "  self._init_dates(dates, freq)\n"
     ]
    },
    {
     "name": "stdout",
     "output_type": "stream",
     "text": [
      "Case 5: {'Order': (1, 1, 2), 'AIC': np.float64(660.0661829239515), 'BIC': np.float64(668.3763326995744), 'FPE': np.float64(5021.906341989634)}\n",
      "\n",
      "Comparison of Models (AIC, BIC, FPE):\n"
     ]
    },
    {
     "data": {
      "text/html": [
       "<div>\n",
       "<style scoped>\n",
       "    .dataframe tbody tr th:only-of-type {\n",
       "        vertical-align: middle;\n",
       "    }\n",
       "\n",
       "    .dataframe tbody tr th {\n",
       "        vertical-align: top;\n",
       "    }\n",
       "\n",
       "    .dataframe thead th {\n",
       "        text-align: right;\n",
       "    }\n",
       "</style>\n",
       "<table border=\"1\" class=\"dataframe\">\n",
       "  <thead>\n",
       "    <tr style=\"text-align: right;\">\n",
       "      <th></th>\n",
       "      <th>Order</th>\n",
       "      <th>AIC</th>\n",
       "      <th>BIC</th>\n",
       "      <th>FPE</th>\n",
       "    </tr>\n",
       "  </thead>\n",
       "  <tbody>\n",
       "    <tr>\n",
       "      <th>4</th>\n",
       "      <td>(1, 1, 2)</td>\n",
       "      <td>660.066183</td>\n",
       "      <td>668.376333</td>\n",
       "      <td>5021.906342</td>\n",
       "    </tr>\n",
       "    <tr>\n",
       "      <th>1</th>\n",
       "      <td>(2, 1, 2)</td>\n",
       "      <td>662.057616</td>\n",
       "      <td>672.445303</td>\n",
       "      <td>5194.986934</td>\n",
       "    </tr>\n",
       "    <tr>\n",
       "      <th>2</th>\n",
       "      <td>(3, 1, 2)</td>\n",
       "      <td>664.054101</td>\n",
       "      <td>676.519326</td>\n",
       "      <td>5373.086870</td>\n",
       "    </tr>\n",
       "    <tr>\n",
       "      <th>3</th>\n",
       "      <td>(2, 0, 2)</td>\n",
       "      <td>675.158848</td>\n",
       "      <td>687.724916</td>\n",
       "      <td>4679.672690</td>\n",
       "    </tr>\n",
       "    <tr>\n",
       "      <th>0</th>\n",
       "      <td>(1, 1, 1)</td>\n",
       "      <td>675.791286</td>\n",
       "      <td>682.023899</td>\n",
       "      <td>6373.020392</td>\n",
       "    </tr>\n",
       "  </tbody>\n",
       "</table>\n",
       "</div>"
      ],
      "text/plain": [
       "       Order         AIC         BIC          FPE\n",
       "4  (1, 1, 2)  660.066183  668.376333  5021.906342\n",
       "1  (2, 1, 2)  662.057616  672.445303  5194.986934\n",
       "2  (3, 1, 2)  664.054101  676.519326  5373.086870\n",
       "3  (2, 0, 2)  675.158848  687.724916  4679.672690\n",
       "0  (1, 1, 1)  675.791286  682.023899  6373.020392"
      ]
     },
     "metadata": {},
     "output_type": "display_data"
    }
   ],
   "source": [
    "import numpy as np\n",
    "import pandas as pd\n",
    "import matplotlib.pyplot as plt\n",
    "from statsmodels.tsa.arima.model import ARIMA\n",
    "\n",
    "np.random.seed(42)\n",
    "months = pd.date_range(start='2018-01-01', periods=60, freq='M')\n",
    "sales = 200 + np.arange(60) * 3 + np.random.normal(0, 15, 60)\n",
    "\n",
    "for i, m in enumerate(months.month):\n",
    "    if m in [10, 11]:\n",
    "        sales[i] += 100 + np.random.randint(50, 100)\n",
    "\n",
    "data = pd.DataFrame({'Month': months, 'Sales': sales})\n",
    "data.set_index('Month', inplace=True)\n",
    "display(data.head())\n",
    "\n",
    "plt.figure(figsize=(12, 4))\n",
    "plt.plot(data['Sales'], marker='o', label='Monthly Sales', color='thistle')\n",
    "plt.title('Synthetic Diwali Sales Data (2018-2022)')\n",
    "plt.xlabel('Month')\n",
    "plt.ylabel('Sales')\n",
    "plt.legend()\n",
    "plt.grid(True)\n",
    "plt.show()\n",
    "\n",
    "def evaluate_arima(series, order):\n",
    "    model = ARIMA(series, order=order)\n",
    "    fit = model.fit()\n",
    "    \n",
    "    n_obs = fit.nobs\n",
    "    sigma2 = fit.mse\n",
    "    k = fit.df_model + 1\n",
    "    fpe = sigma2 * (n_obs + k) / (n_obs - k)\n",
    "    \n",
    "    return {'Order': order, 'AIC': fit.aic, 'BIC': fit.bic, 'FPE': fpe}\n",
    "\n",
    "result1 = evaluate_arima(data['Sales'], order=(1,1,1))\n",
    "print('Case 1:', result1)\n",
    "\n",
    "result2 = evaluate_arima(data['Sales'], order=(2,1,2))\n",
    "print('Case 2:', result2)\n",
    "\n",
    "result3 = evaluate_arima(data['Sales'], order=(3,1,2))\n",
    "print('Case 3:', result3)\n",
    "\n",
    "result4 = evaluate_arima(data['Sales'], order=(2,0,2))\n",
    "print('Case 4:', result4)\n",
    "\n",
    "result5 = evaluate_arima(data['Sales'], order=(1,1,2))\n",
    "print('Case 5:', result5)\n",
    "\n",
    "results = pd.DataFrame([result1, result2, result3, result4, result5])\n",
    "print('\\nComparison of Models (AIC, BIC, FPE):')\n",
    "display(results.sort_values(by='AIC'))\n"
   ]
  },
  {
   "cell_type": "code",
   "execution_count": 2,
   "id": "f6acfcf5-eecc-4cae-886a-e44adc64b88c",
   "metadata": {},
   "outputs": [
    {
     "name": "stderr",
     "output_type": "stream",
     "text": [
      "C:\\Users\\Deepa\\AppData\\Local\\Temp\\ipykernel_25568\\1146774128.py:6: FutureWarning: 'M' is deprecated and will be removed in a future version, please use 'ME' instead.\n",
      "  years = pd.date_range(start='2010-12-01', end='2022-12-01', freq='12M')\n"
     ]
    },
    {
     "data": {
      "text/html": [
       "<div>\n",
       "<style scoped>\n",
       "    .dataframe tbody tr th:only-of-type {\n",
       "        vertical-align: middle;\n",
       "    }\n",
       "\n",
       "    .dataframe tbody tr th {\n",
       "        vertical-align: top;\n",
       "    }\n",
       "\n",
       "    .dataframe thead th {\n",
       "        text-align: right;\n",
       "    }\n",
       "</style>\n",
       "<table border=\"1\" class=\"dataframe\">\n",
       "  <thead>\n",
       "    <tr style=\"text-align: right;\">\n",
       "      <th></th>\n",
       "      <th>Auto_Sales</th>\n",
       "    </tr>\n",
       "    <tr>\n",
       "      <th>Year</th>\n",
       "      <th></th>\n",
       "    </tr>\n",
       "  </thead>\n",
       "  <tbody>\n",
       "    <tr>\n",
       "      <th>2010-12-31</th>\n",
       "      <td>5248.357077</td>\n",
       "    </tr>\n",
       "    <tr>\n",
       "      <th>2011-12-31</th>\n",
       "      <td>5230.867849</td>\n",
       "    </tr>\n",
       "    <tr>\n",
       "      <th>2012-12-31</th>\n",
       "      <td>5923.844269</td>\n",
       "    </tr>\n",
       "    <tr>\n",
       "      <th>2013-12-31</th>\n",
       "      <td>6661.514928</td>\n",
       "    </tr>\n",
       "    <tr>\n",
       "      <th>2014-12-31</th>\n",
       "      <td>6082.923313</td>\n",
       "    </tr>\n",
       "  </tbody>\n",
       "</table>\n",
       "</div>"
      ],
      "text/plain": [
       "             Auto_Sales\n",
       "Year                   \n",
       "2010-12-31  5248.357077\n",
       "2011-12-31  5230.867849\n",
       "2012-12-31  5923.844269\n",
       "2013-12-31  6661.514928\n",
       "2014-12-31  6082.923313"
      ]
     },
     "metadata": {},
     "output_type": "display_data"
    },
    {
     "data": {
      "image/png": "[encoded data removed]",
      "text/plain": [
       "<Figure size 1000x400 with 1 Axes>"
      ]
     },
     "metadata": {},
     "output_type": "display_data"
    },
    {
     "name": "stderr",
     "output_type": "stream",
     "text": [
      "C:\\Users\\Deepa\\AppData\\Local\\Programs\\Python\\Python312\\Lib\\site-packages\\statsmodels\\tsa\\base\\tsa_model.py:473: ValueWarning: No frequency information was provided, so inferred frequency YE-DEC will be used.\n",
      "  self._init_dates(dates, freq)\n",
      "C:\\Users\\Deepa\\AppData\\Local\\Programs\\Python\\Python312\\Lib\\site-packages\\statsmodels\\tsa\\base\\tsa_model.py:473: ValueWarning: No frequency information was provided, so inferred frequency YE-DEC will be used.\n",
      "  self._init_dates(dates, freq)\n",
      "C:\\Users\\Deepa\\AppData\\Local\\Programs\\Python\\Python312\\Lib\\site-packages\\statsmodels\\tsa\\base\\tsa_model.py:473: ValueWarning: No frequency information was provided, so inferred frequency YE-DEC will be used.\n",
      "  self._init_dates(dates, freq)\n",
      "C:\\Users\\Deepa\\AppData\\Local\\Programs\\Python\\Python312\\Lib\\site-packages\\statsmodels\\tsa\\statespace\\sarimax.py:966: UserWarning: Non-stationary starting autoregressive parameters found. Using zeros as starting parameters.\n",
      "  warn('Non-stationary starting autoregressive parameters'\n",
      "C:\\Users\\Deepa\\AppData\\Local\\Programs\\Python\\Python312\\Lib\\site-packages\\statsmodels\\tsa\\statespace\\sarimax.py:978: UserWarning: Non-invertible starting MA parameters found. Using zeros as starting parameters.\n",
      "  warn('Non-invertible starting MA parameters found.'\n",
      "C:\\Users\\Deepa\\AppData\\Local\\Programs\\Python\\Python312\\Lib\\site-packages\\statsmodels\\base\\model.py:607: ConvergenceWarning: Maximum Likelihood optimization failed to converge. Check mle_retvals\n",
      "  warnings.warn(\"Maximum Likelihood optimization failed to \"\n"
     ]
    },
    {
     "name": "stdout",
     "output_type": "stream",
     "text": [
      "{'Order': (1, 1, 1), 'AIC': np.float64(176.22980340663057), 'BIC': np.float64(177.4234892250257), 'FPE': np.float64(5154758.27251986)}\n"
     ]
    }
   ],
   "source": [
    "import numpy as np\n",
    "import pandas as pd\n",
    "import matplotlib.pyplot as plt\n",
    "from statsmodels.tsa.arima.model import ARIMA\n",
    "np.random.seed(42)\n",
    "years = pd.date_range(start='2010-12-01', end='2022-12-01', freq='12M')\n",
    "sales = 5000 + (np.arange(len(years)) * 300) + np.random.normal(0, 500, len(years))\n",
    "\n",
    "data = pd.DataFrame({'Year': years, 'Auto_Sales': sales})\n",
    "data.set_index('Year', inplace=True)\n",
    "display(data.head())\n",
    "\n",
    "plt.figure(figsize=(10, 4))\n",
    "plt.plot(data.index, data['Auto_Sales'], marker='o', label='Automobile Sales (Dec)', color='teal')\n",
    "plt.title('Automobile Sales in India (December 2010-2022)')\n",
    "plt.xlabel('Year')\n",
    "plt.ylabel('Sales')\n",
    "plt.legend()\n",
    "plt.grid(True)\n",
    "plt.show()\n",
    "\n",
    "def evaluate_arima(series, order):\n",
    "    model = ARIMA(series, order=order)\n",
    "    fit = model.fit()\n",
    "    \n",
    "    n_obs = fit.nobs\n",
    "    sigma2 = fit.mse\n",
    "    k = fit.df_model + 1\n",
    "    fpe = sigma2 * (n_obs + k) / (n_obs - k)\n",
    "    \n",
    "    return {'Order': order, 'AIC': fit.aic, 'BIC': fit.bic, 'FPE': fpe}\n",
    "\n",
    "result = evaluate_arima(data['Auto_Sales'], order=(1, 1, 1))\n",
    "print(result)\n"
   ]
  },
  {
   "cell_type": "code",
   "execution_count": null,
   "id": "6089aaa6-698b-428e-90f3-30b30f096a91",
   "metadata": {},
   "outputs": [],
   "source": [
    "import numpy as np \n",
    "import pandas as pd \n",
    "from statsmodels.tsa.arima.model import ARIMA \n",
    "#generate synthetic trend data \n",
    "np.random.seed(42) \n",
    "n = 80 \n",
    "series = pd.Series(100 + 0.5*np.arange(n) + np.random.normal(0, 2, n))\n",
    "\n",
    "model = ARIMA(series, order=(2,1,2)) \n",
    "fit = model.fit() \n",
    "\n",
    "n_obs = fit.nobs \n",
    "sigma2 = fit.mse \n",
    "k = fit.df_model + 1 \n",
    "fpe = sigma2 * (n_obs + k) / (n_obs - k) \n",
    "print('Synthetic Example') \n",
    "print('AIC:', fit.aic) \n",
    "print('BIC:', fit.bic) \n",
    "print('FPE:',fpe) \n",
    "data = pd.read_csv(url, parse_dates = ['Month'], index_col='Month') \n",
    "display(data.head()) \n",
    "#comparing models on the same dataset \n",
    "orders = [(1,1,1), (2,1,1), (3,1,2)] \n",
    "results=[] \n",
    "for order in orders: \n",
    "model = ARIMA(data, order=order) \n",
    "fit = model.fit() \n",
    "n_obs = fit.nobs \n",
    "sigma2 = fit.mse \n",
    "k = fit.df_model + 1 \n",
    "fpe = sigma2 * (n_obs + k) / (n_obs - k) \n",
    "results.append((order, fit.aic, fit.bic, fpe)) \n",
    "df = pd.DataFrame(results, columns=['Order (p,d,q)', 'AIC', 'BIC', 'FPE']) \n",
    "display(df)\n",
    "#generate synthetic random walk (stock-like series) \n",
    "np.random.seed(0) #comparing models on the same dataset \n",
    "orders = [(1,1,1), (1,1,2), (2,1,2), (3,1,2),(2,0,2)] \n",
    "results=[] \n",
    "for order in orders: \n",
    "  model = ARIMA(series, order=order) \n",
    "  fit = model.fit() \n",
    "  n_obs = fit.nobs \n",
    "  sigma2 = fit.mse \n",
    "  k = fit.df_model + 1 \n",
    "  fpe = sigma2 * (n_obs + k) / (n_obs - k) \n",
    "  results.append((order, fit.aic, fit.bic, fpe)) \n",
    "print('Example 5: Synthetic Energy Consumption') \n",
    "df = pd.DataFrame(results, columns=['Order (p,d,q)', 'AIC', 'BIC', 'FPE']) \n",
    "display(df) \n",
    "n = 100 \n",
    "steps = np.random.normal(0, 1, n) \n",
    "series = pd.Series(np.cumsum(steps))\n",
    "#create synthetic seasonal data \n",
    "np.random.seed(10) \n",
    "n = 120 \n",
    "time = np.arange(n) \n",
    "series = 50 + 10 * np.sin(2*np.pi*time/12) + np.random.normal(0, 2, n) \n",
    "series = pd.Series(series) \n",
    "print(series.head())\n"
   ]
  },
  {
   "cell_type": "code",
   "execution_count": null,
   "id": "7334c94d-7f1a-448c-80af-20e25a4d787e",
   "metadata": {},
   "outputs": [],
   "source": []
  }
 ],
 "metadata": {
  "kernelspec": {
   "display_name": "Python 3 (ipykernel)",
   "language": "python",
   "name": "python3"
  },
  "language_info": {
   "codemirror_mode": {
    "name": "ipython",
    "version": 3
   },
   "file_extension": ".py",
   "mimetype": "text/x-python",
   "name": "python",
   "nbconvert_exporter": "python",
   "pygments_lexer": "ipython3",
   "version": "3.12.6"
  }
 },
 "nbformat": 4,
 "nbformat_minor": 5
}
