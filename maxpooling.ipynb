{
  "nbformat": 4,
  "nbformat_minor": 0,
  "metadata": {
    "colab": {
      "provenance": []
    },
    "kernelspec": {
      "name": "python3",
      "display_name": "Python 3"
    },
    "language_info": {
      "name": "python"
    }
  },
  "cells": [
    {
      "cell_type": "markdown",
      "source": [
        "#Checking the effects of MaxPooling on model parameters"
      ],
      "metadata": {
        "id": "cgYi0v_OE53P"
      }
    },
    {
      "cell_type": "code",
      "execution_count": null,
      "metadata": {
        "colab": {
          "base_uri": "https://localhost:8080/"
        },
        "id": "nX7MXP925ly4",
        "outputId": "194373d8-999f-4a1e-e6b0-b22ac3477407"
      },
      "outputs": [
        {
          "output_type": "execute_result",
          "data": {
            "text/plain": [
              "<tf.Tensor: shape=(1, 2, 2, 1), dtype=float32, numpy=\n",
              "array([[[[5.],\n",
              "         [6.]],\n",
              "\n",
              "        [[8.],\n",
              "         [9.]]]], dtype=float32)>"
            ]
          },
          "metadata": {},
          "execution_count": 1
        }
      ],
      "source": [
        "import tensorflow as tf\n",
        "x = tf.constant([[1., 2., 3.],\n",
        "                 [4., 5., 6.],\n",
        "                 [7., 8., 9.]])\n",
        "x = tf.reshape(x, [1, 3, 3, 1])\n",
        "max_pool_2d = tf.keras.layers.MaxPooling2D(pool_size=(2, 2), strides=(1, 1), padding='valid')\n",
        "max_pool_2d(x)"
      ]
    },
    {
      "cell_type": "code",
      "source": [
        "x = tf.constant([[1., 2., 3., 4.],\n",
        "                 [5., 6., 7., 8.],\n",
        "                 [9., 10., 11., 12.]])\n",
        "x = tf.reshape(x, [1, 3, 4, 1])\n",
        "max_pool_2d = tf.keras.layers.MaxPooling2D(pool_size=(2, 2),\n",
        "   strides=(2, 2), padding='valid')\n",
        "max_pool_2d(x)"
      ],
      "metadata": {
        "colab": {
          "base_uri": "https://localhost:8080/"
        },
        "id": "Jr-P4-OH5qCL",
        "outputId": "967013ff-fded-4af2-b601-8d2e6d1b2e75"
      },
      "execution_count": null,
      "outputs": [
        {
          "output_type": "execute_result",
          "data": {
            "text/plain": [
              "<tf.Tensor: shape=(1, 1, 2, 1), dtype=float32, numpy=\n",
              "array([[[[6.],\n",
              "         [8.]]]], dtype=float32)>"
            ]
          },
          "metadata": {},
          "execution_count": 2
        }
      ]
    },
    {
      "cell_type": "code",
      "source": [
        "x = tf.constant([[1., 2., 3., 4.],\n",
        "                 [5., 6., 7., 8.],\n",
        "                 [9., 10., 11., 12.]])\n",
        "x = tf.reshape(x, [1, 3, 4, 1])\n",
        "max_pool_2d = tf.keras.layers.MaxPooling2D(pool_size=(2, 2),\n",
        "   strides=(2, 2), padding='same')\n",
        "max_pool_2d(x)"
      ],
      "metadata": {
        "colab": {
          "base_uri": "https://localhost:8080/"
        },
        "id": "83KCwYFT5rrh",
        "outputId": "6cb722a9-dbe1-4fab-da17-064f8f9d813d"
      },
      "execution_count": null,
      "outputs": [
        {
          "output_type": "execute_result",
          "data": {
            "text/plain": [
              "<tf.Tensor: shape=(1, 2, 2, 1), dtype=float32, numpy=\n",
              "array([[[[ 6.],\n",
              "         [ 8.]],\n",
              "\n",
              "        [[10.],\n",
              "         [12.]]]], dtype=float32)>"
            ]
          },
          "metadata": {},
          "execution_count": 4
        }
      ]
    },
    {
      "cell_type": "code",
      "source": [
        "x = tf.constant([[1., 2., 3., 4.],\n",
        "                 [5., 6., 7., 8.],\n",
        "                 [9., 10., 11., 12.]])\n",
        "x = tf.reshape(x, [1, 3, 4, 1])\n",
        "max_pool_2d = tf.keras.layers.MaxPooling2D(pool_size=(2, 2),\n",
        "   strides=(1, 1), padding='same')\n",
        "max_pool_2d(x)"
      ],
      "metadata": {
        "id": "AglPfU-95yz5",
        "outputId": "4300bf16-4834-4a07-9ebe-4ad194ecb85f",
        "colab": {
          "base_uri": "https://localhost:8080/"
        }
      },
      "execution_count": null,
      "outputs": [
        {
          "output_type": "execute_result",
          "data": {
            "text/plain": [
              "<tf.Tensor: shape=(1, 3, 4, 1), dtype=float32, numpy=\n",
              "array([[[[ 6.],\n",
              "         [ 7.],\n",
              "         [ 8.],\n",
              "         [ 8.]],\n",
              "\n",
              "        [[10.],\n",
              "         [11.],\n",
              "         [12.],\n",
              "         [12.]],\n",
              "\n",
              "        [[10.],\n",
              "         [11.],\n",
              "         [12.],\n",
              "         [12.]]]], dtype=float32)>"
            ]
          },
          "metadata": {},
          "execution_count": 5
        }
      ]
    }
  ]
}